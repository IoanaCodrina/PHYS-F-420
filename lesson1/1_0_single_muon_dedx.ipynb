{
 "cells": [
  {
   "cell_type": "markdown",
   "metadata": {},
   "source": [
    "### Tutorial for PHYS-F-420 Part 1\n",
    "designed and written by Andrea Parenti, Katarina Simkova, Ioana Maris\n",
    "\n",
    "Simulate the passage of articles through matter. \n",
    "\n",
    "First part: what happens to a muons passing trough a water volume?\n",
    "   - Which is the energy loss as a function of the path traversed?\n",
    "   - Include the energy deposit fluctuations generating based on a Landau distribution for ionisation\n",
    "   - Consider 2 muons one with an energy of 1 GeV and one with an energy of 100 GeV and look at the relative energy loss  \n"
   ]
  },
  {
   "cell_type": "code",
   "execution_count": 1,
   "metadata": {},
   "outputs": [],
   "source": [
    "import numpy as np  \n",
    "from astropy import units as u\n",
    "\n",
    "# Define relevant physical constants   \n",
    "m0 = 105.6583745 * u.MeV# MeV, muon mass\n",
    "me = 0.510998950 * u.MeV # MeV, electron mass \n",
    "\n",
    "# # Define WCD cylinder tank dimensions  \n",
    "h = 120 * u.cm #cm \n",
    "r = 180 * u.cm #cm \n",
    "\n",
    "# Choose kinetic energy of the muon \n",
    "ek = 1000.* u.MeV # 1000 MeV = 1 GeV \n",
    "\n",
    "# Compute beta and gamma for the particle \n",
    "\n",
    "p =  np.sqrt(ek*ek + 2*ek*m0)\n",
    "def _beta(ek):\n",
    "    return np.sqrt(ek*ek + 2*ek*m0) / (ek+m0) \n",
    "def _gamma(ek): \n",
    "    return 1 / np.sqrt( 1 - _beta(ek)*_beta(ek) ) "
   ]
  },
  {
   "cell_type": "code",
   "execution_count": 2,
   "metadata": {},
   "outputs": [
    {
     "name": "stdout",
     "output_type": "stream",
     "text": [
      "***** Starting values for the muon *****\n",
      "p =  1100.5983595299422 MeV\n",
      "beta =  0.9954235276584903\n",
      "gamma =  10.464465119137257\n",
      "beta * gamma =   10.416574783950832 \n",
      "\n"
     ]
    }
   ],
   "source": [
    "print('***** Starting values for the muon *****')\n",
    "print('p = ',p) \n",
    "print('beta = ',_beta(ek))\n",
    "print('gamma = ',_gamma(ek)) \n",
    "print('beta * gamma =  ', _beta(ek)*_gamma(ek),'\\n')\n",
    "\n",
    "beta = _beta(ek)\n",
    "gamma = _gamma(ek)\n"
   ]
  },
  {
   "cell_type": "markdown",
   "metadata": {},
   "source": [
    "For 0.1 < beta*gamma < 1000, the mean energy loss rate of a heavy charged particle in a medium is described by the Bethe equation \n",
    "Start preparing the \"ingredients\" for the Bethe equation\n",
    "\n",
    "First, Compute maximum energy transfer to an electron of target material in a single collision"
   ]
  },
  {
   "cell_type": "code",
   "execution_count": 3,
   "metadata": {},
   "outputs": [
    {
     "name": "stdout",
     "output_type": "stream",
     "text": [
      "***** Maximum energy transfer to an electron for starting muon: ***** \n",
      "Wmax =  0.10069707532222076 GeV\n"
     ]
    }
   ],
   "source": [
    "def _Wmax(_ek):\n",
    "    tmp_beta = _beta(_ek)\n",
    "    tmp_gamma = _gamma(_ek)\n",
    "    return 2*me*(tmp_beta*tmp_gamma)**2 / (1 + 2*tmp_gamma*me / m0 + (me / m0)**2  )\n",
    "\n",
    "Wmax = _Wmax(ek)\n",
    "\n",
    "print('***** Maximum energy transfer to an electron for starting muon: ***** ')\n",
    "print('Wmax = ',Wmax.to(u.GeV) ) \n"
   ]
  },
  {
   "cell_type": "code",
   "execution_count": 4,
   "metadata": {},
   "outputs": [],
   "source": [
    "# Look up material properties (water)\n",
    "# https://pdg.lbl.gov/2024/AtomicNuclearProperties/HTML/water_liquid.html  \n",
    "\n",
    "Z_A=0.55509 *u.mol / u.g #mol g^-1, atomic number Z over atomic mass mol g^-1 \n",
    "rho=1 * u.g / u.cm**3 #g cm^-3, density of liquid water \n",
    "I=7.97e-5 * u.MeV #MeV, mean excitation energy\n",
    "\n",
    "K=0.307075 * u.MeV * u.cm **2 / u.mol #MeV mol^−1 cm2\n",
    "\n",
    "# Define the Bethe formula as a funcion taking beta, gamma as arguments. Dimension of dE/dx is MeV/cm \n",
    "\n",
    "def de_dx(_ek):\n",
    "    tmp_beta = _beta(_ek)\n",
    "    tmp_gamma = _gamma(_ek) \n",
    "    return K*Z_A*(1/tmp_beta**2) * (0.5 *np.log(2*me* tmp_beta**2 *tmp_gamma**2 * _Wmax(_ek) / I**2) - tmp_beta**2 ) * rho  \n",
    "\n",
    "# Define the Bethe formula as a funcion, with the muon kinetic energy as argument. Dimension of dE/dx is MeV/cm \n",
    "\n",
    "def de_dx(_beta,_gamma, _Wmax):\n",
    "    return K*Z_A*(1/_beta**2) * (0.5 *np.log(2*me* _beta**2 *_gamma**2 * _Wmax / I**2) - _beta**2 ) * rho  "
   ]
  },
  {
   "cell_type": "code",
   "execution_count": 5,
   "metadata": {},
   "outputs": [
    {
     "data": {
      "image/png": "[encoded data removed]",
      "text/plain": [
       "<Figure size 432x288 with 1 Axes>"
      ]
     },
     "metadata": {
      "needs_background": "light"
     },
     "output_type": "display_data"
    }
   ],
   "source": [
    "import matplotlib.pyplot as plt\n",
    "\n",
    "# Check correct implementation of the Bethe formula \n",
    "ek_values = np.logspace(-1,4,100)\n",
    "ek_values = ek_values * u.MeV \n",
    "\n",
    "beta_values = _beta(ek_values)\n",
    "gamma_values = _gamma(ek_values) \n",
    "Wmax_values = _Wmax(ek_values)\n",
    "\n",
    "plot =  plt.scatter(ek_values, de_dx(beta_values, gamma_values, Wmax_values).value, c='black', marker='.')\n",
    "plt.ylabel('dE/dx (MeV/cm) ', size=16)\n",
    "plt.xlabel(r'E$_k$ (MeV) ', size=16)\n",
    "\n",
    "plt.xscale('log')\n",
    "plt.yscale('log')\n"
   ]
  },
  {
   "cell_type": "code",
   "execution_count": 6,
   "metadata": {},
   "outputs": [
    {
     "data": {
      "image/png": "[encoded data removed]",
      "text/plain": [
       "<Figure size 432x288 with 1 Axes>"
      ]
     },
     "metadata": {
      "needs_background": "light"
     },
     "output_type": "display_data"
    }
   ],
   "source": [
    "\n",
    "plot =  plt.scatter(beta_values*gamma_values, de_dx(beta_values, gamma_values, Wmax_values).value, c='black', marker='.')\n",
    "plt.ylabel('dE/dx [MeV/cm ] ', size=16)\n",
    "plt.xlabel(r'$\\beta \\gamma$ ', size=16)\n",
    "\n",
    "plt.xscale('log')\n",
    "plt.yscale('log')"
   ]
  },
  {
   "cell_type": "code",
   "execution_count": 7,
   "metadata": {},
   "outputs": [
    {
     "name": "stdout",
     "output_type": "stream",
     "text": [
      "*****  Energy loss across the tank with constant dE/dx *****\n",
      "270.5621089959322 MeV\n"
     ]
    }
   ],
   "source": [
    "# Compute energy loss according to the Bethe formula assuming dE/dx constant across full tank \n",
    "\n",
    "e_loss = de_dx(beta,gamma,Wmax) * h \n",
    "print('*****  Energy loss across the tank with constant dE/dx *****')\n",
    "print(e_loss)"
   ]
  },
  {
   "cell_type": "code",
   "execution_count": 8,
   "metadata": {},
   "outputs": [
    {
     "name": "stdout",
     "output_type": "stream",
     "text": [
      "*****  Computing dE/dx in steps across the tank *****\n",
      "\n",
      "Step energy loss:  22.54684241632768 MeV\n",
      "Muon energy after one step:  977.4531575836724 MeV\n"
     ]
    }
   ],
   "source": [
    "# Try splitting the muon path inside the tank into smaller steps of dx = 10 cm\n",
    "# Update energy of muon after each step  \n",
    "\n",
    "print('*****  Computing dE/dx in steps across the tank *****\\n')\n",
    "\n",
    "def _eloss_step(_beta,_gamma,_Wmax,_dx): \n",
    "    _eloss = de_dx(_beta,_gamma,_Wmax) * _dx \n",
    "    print('Step energy loss: ', _eloss)\n",
    "    return _eloss\n",
    "\n",
    "dx = 10 * u.cm #cm \n",
    "\n",
    "# As a first check, compute energy loss for a dx = 10 cm step in water  \n",
    "\n",
    "# Initialize again 1 GeV muon\n",
    "ek = 1000 * u.MeV # MeV\n",
    "beta = _beta(ek)\n",
    "gamma = _gamma(ek)\n",
    "Wmax = _Wmax(ek)\n",
    "\n",
    "eloss = _eloss_step(beta,gamma,Wmax,dx)\n",
    "\n",
    "# Update kinetic energy, beta and gamma\n",
    "ek = ek - eloss  \n",
    "beta = _beta(ek)\n",
    "gamma = _gamma(ek)  \n",
    "Wmax = _Wmax(ek)\n",
    "print('Muon energy after one step: ', ek)"
   ]
  },
  {
   "cell_type": "code",
   "execution_count": 9,
   "metadata": {},
   "outputs": [
    {
     "name": "stdout",
     "output_type": "stream",
     "text": [
      "*****  Now iterate steps for the full height of the tank *****\n",
      "\n",
      "Step energy loss:  22.54684241632768 MeV\n",
      "Step energy loss:  22.486282885916154 MeV\n",
      "Step energy loss:  22.424913733689166 MeV\n",
      "Step energy loss:  22.362724371117842 MeV\n",
      "Step energy loss:  22.299705198022245 MeV\n",
      "Step energy loss:  22.23584784769118 MeV\n",
      "Step energy loss:  22.17114547870078 MeV\n",
      "Step energy loss:  22.105593122749543 MeV\n",
      "Step energy loss:  22.03918809988977 MeV\n",
      "Step energy loss:  21.971930515104305 MeV\n",
      "Step energy loss:  21.903823853401715 MeV\n",
      "Step energy loss:  21.834875694667755 MeV\n",
      "\n",
      "Muon kinetic energy after passage in the tank:  733.617126782722 MeV\n",
      "Total energy deposited in the tank: 266.38287321727813 MeV\n",
      "Check:  1000.0000000000002 MeV\n"
     ]
    }
   ],
   "source": [
    "# Now compute energy loss with nsteps to cover the full height of the tank (h = 120 cm )\n",
    "\n",
    "print('*****  Now iterate steps for the full height of the tank *****\\n')\n",
    "\n",
    "# Initialize again 1 GeV muon\n",
    "\n",
    "ek = 1000. * u.MeV # re-set the energy to 1 GeV  \n",
    "beta = _beta(ek)\n",
    "gamma = _gamma(ek)\n",
    "Wmax = _Wmax(ek)\n",
    "\n",
    "nsteps = int(h/dx)\n",
    "tot_eloss = 0. * u.MeV\n",
    "\n",
    "# Initialize arrays to save energy loss and beta*gamma at each step \n",
    "eloss_array = np.zeros(nsteps) * u.MeV * u.cm**2 / u.g\n",
    "bg_array = np.zeros(nsteps)\n",
    "\n",
    "for i in range(nsteps): \n",
    "    eloss = _eloss_step(beta, gamma, Wmax, dx)\n",
    "    tot_eloss += eloss\n",
    "     \n",
    "    # Update particle \n",
    "    ek = ek - eloss  \n",
    "    beta = _beta(ek)\n",
    "    gamma = _gamma(ek)\n",
    "    Wmax = _Wmax(ek)\n",
    "\n",
    "    eloss_array[i] = eloss / (dx * rho)\n",
    "    bg_array[i] = beta * gamma\n",
    "    \n",
    "print('\\nMuon kinetic energy after passage in the tank: ', ek)    \n",
    "print('Total energy deposited in the tank:', tot_eloss)\n",
    "print('Check: ', ek + tot_eloss )\n"
   ]
  },
  {
   "cell_type": "code",
   "execution_count": 10,
   "metadata": {},
   "outputs": [
    {
     "data": {
      "text/plain": [
       "<matplotlib.collections.PathCollection at 0x7fc35c700b20>"
      ]
     },
     "execution_count": 10,
     "metadata": {},
     "output_type": "execute_result"
    },
    {
     "data": {
      "image/png": "[encoded data removed]",
      "text/plain": [
       "<Figure size 432x288 with 1 Axes>"
      ]
     },
     "metadata": {
      "needs_background": "light"
     },
     "output_type": "display_data"
    }
   ],
   "source": [
    "# Plot dE/dx as a function of beta*gamma \n",
    "\n",
    "plt.xscale('log')\n",
    "plt.xlim(6,10.5)\n",
    "plt.xlabel(r'$\\beta \\gamma$', size = 15)\n",
    "plt.ylabel(r'dE/dx (MeV g$^{-1}$ cm$^{2}$)', size =  15)\n",
    "plt.scatter(bg_array, eloss_array, c='black')"
   ]
  },
  {
   "cell_type": "code",
   "execution_count": 11,
   "metadata": {},
   "outputs": [],
   "source": [
    "# In this way we have computed the energy loss based on the mean rate given by the Bethe formula\n",
    "# Now let's take into account the energy loss probability distribution, described by a Landau distribution   \n",
    "# Install landaupy with \"pip install git+https://github.com/SengerM/landaupy\"\n",
    "\n",
    "from landaupy import landau\n",
    "\n",
    "# Define function to compute energy loss from a Landau distribution at each step \n",
    " \n",
    "def _eloss_step_landau(_beta,_gamma,_dx):\n",
    "    \n",
    "    # Width of the Landau \n",
    "    width =  K/2*Z_A*(_dx*rho/_beta**2) \n",
    "    \n",
    "    # MPV of the Landau \n",
    "    mpv = width \\\n",
    "            *( np.log(2*me*_beta**2*_gamma**2/I) \\\n",
    "                +np.log(width/I) + 0.2\n",
    "                         -_beta**2 )\n",
    "    \n",
    "    # Extract a value from the Landau distribution         \n",
    "    _eloss = landau.sample(x_mpv=mpv.value, xi=width.value, n_samples=1) \n",
    "    \n",
    "    print('Step energy loss: ', _eloss, 'MeV')\n",
    "    return _eloss * u.MeV\n"
   ]
  },
  {
   "cell_type": "code",
   "execution_count": 12,
   "metadata": {},
   "outputs": [
    {
     "name": "stdout",
     "output_type": "stream",
     "text": [
      "*****  Iterate steps for the full height of the tank *****\n",
      "*****  computing energy loss from a Landau distribution *****\n",
      "\n",
      "Step energy loss:  20.04871821352344 MeV\n",
      "Step energy loss:  23.372262550398297 MeV\n",
      "Step energy loss:  19.77879935561063 MeV\n",
      "Step energy loss:  21.242003808461913 MeV\n",
      "Step energy loss:  23.82857409527814 MeV\n",
      "Step energy loss:  20.332921875174435 MeV\n",
      "Step energy loss:  22.805939475237242 MeV\n",
      "Step energy loss:  22.120149079736827 MeV\n",
      "Step energy loss:  18.789977449524027 MeV\n",
      "Step energy loss:  24.995416150290758 MeV\n",
      "Step energy loss:  26.796044239689905 MeV\n",
      "Step energy loss:  20.133341882265327 MeV\n",
      "\n",
      "Muon kinetic energy after passage in the tank:  735.755851824809 MeV\n",
      "Total energy deposited in the tank: 264.24414817519096 MeV\n"
     ]
    }
   ],
   "source": [
    "# Now let's simulate steps inside the tank, each time extracting the energy loss from the Landau distribution\n",
    "\n",
    "# Now let's simulate steps inside the tank, each time extracting the energy loss from the Landau distribution\n",
    "\n",
    "print('*****  Iterate steps for the full height of the tank *****')\n",
    "print('*****  computing energy loss from a Landau distribution *****\\n')\n",
    "\n",
    "ek = 1000. * u.MeV # reset primary kinetic energy \n",
    "beta = _beta(ek)\n",
    "gamma = _gamma(ek)\n",
    "Wmax = _Wmax(ek)\n",
    "\n",
    "d_eloss_array = np.zeros(nsteps) * u.MeV\n",
    "tot_eloss_landau = 0. * u.MeV \n",
    " \n",
    "for i in range(nsteps): \n",
    "    eloss = _eloss_step_landau(beta,gamma,dx)\n",
    "    tot_eloss_landau += eloss \n",
    "    d_eloss_array[i] = eloss\n",
    "    tot_eloss += eloss\n",
    "     \n",
    "    # Update particle \n",
    "    ek = ek - eloss  \n",
    "    beta = _beta(ek)\n",
    "    gamma = _gamma(ek)\n",
    "    Wmax = _Wmax(ek)\n",
    "    \n",
    "print('\\nMuon kinetic energy after passage in the tank: ', ek)    \n",
    "print('Total energy deposited in the tank:', tot_eloss_landau)"
   ]
  },
  {
   "cell_type": "code",
   "execution_count": 14,
   "metadata": {},
   "outputs": [
    {
     "data": {
      "text/plain": [
       "(array([0., 0., 0., 0., 0., 0., 0., 0., 1., 4., 1., 1., 2., 1., 1., 0., 1.,\n",
       "        0., 0., 0., 0., 0., 0., 0., 0., 0., 0., 0., 0.]),\n",
       " array([10.        , 11.03448276, 12.06896552, 13.10344828, 14.13793103,\n",
       "        15.17241379, 16.20689655, 17.24137931, 18.27586207, 19.31034483,\n",
       "        20.34482759, 21.37931034, 22.4137931 , 23.44827586, 24.48275862,\n",
       "        25.51724138, 26.55172414, 27.5862069 , 28.62068966, 29.65517241,\n",
       "        30.68965517, 31.72413793, 32.75862069, 33.79310345, 34.82758621,\n",
       "        35.86206897, 36.89655172, 37.93103448, 38.96551724, 40.        ]),\n",
       " <a list of 1 Patch objects>)"
      ]
     },
     "execution_count": 14,
     "metadata": {},
     "output_type": "execute_result"
    },
    {
     "data": {
      "image/png": "[encoded data removed]",
      "text/plain": [
       "<Figure size 432x288 with 1 Axes>"
      ]
     },
     "metadata": {
      "needs_background": "light"
     },
     "output_type": "display_data"
    }
   ],
   "source": [
    "plt.xlabel(r'E$_{loss}$ (MeV)', size = 14)\n",
    "plt.ylabel('Entries', size = 14)\n",
    "plt.hist(d_eloss_array.value, bins = np.linspace(10,40,30), histtype='stepfilled')\n"
   ]
  }
 ],
 "metadata": {
  "kernelspec": {
   "display_name": "Python 3",
   "language": "python",
   "name": "python3"
  },
  "language_info": {
   "codemirror_mode": {
    "name": "ipython",
    "version": 3
   },
   "file_extension": ".py",
   "mimetype": "text/x-python",
   "name": "python",
   "nbconvert_exporter": "python",
   "pygments_lexer": "ipython3",
   "version": "3.8.10"
  },
  "vscode": {
   "interpreter": {
    "hash": "0c60814a34b1de8e9916497fa254bba583838094421e986a56c7f9e13e41d916"
   }
  }
 },
 "nbformat": 4,
 "nbformat_minor": 2
}
