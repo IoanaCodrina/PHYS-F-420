{
 "cells": [
  {
   "cell_type": "markdown",
   "metadata": {},
   "source": [
    "### Tutorial for PHYS-F-420 Part 1\n",
    "designed and written by Andrea Parenti, Katarina Simkova, Ioana Maris\n",
    "\n",
    "Simulate the passage of articles through matter. \n",
    "\n",
    "First part: what happens to a muons passing trough a water volume?\n",
    "   - Which is the energy loss as a function of the path traversed?\n",
    "   - Include the energy deposit fluctuations generating based on a Landau distribution for ionisation\n",
    "   - Consider 2 muons one with an energy of 1 GeV and one with an energy of 100 GeV and look at the relative energy loss  \n"
   ]
  },
  {
   "cell_type": "code",
   "execution_count": null,
   "metadata": {},
   "outputs": [],
   "source": [
    "import numpy as np  \n",
    "\n",
    "# Define relevant physical constants   \n",
    "m0 = 105.6583745 # MeV, muon mass\n",
    "me = 0.510998950 # MeV, electron mass \n",
    "\n",
    "# # Define WCD cylinder tank dimensions  \n",
    "h = 120 #cm \n",
    "r = 180 #cm \n",
    "\n",
    "# Choose kinetic energy of the muon \n",
    "ek = 1000. # 1000 MeV = 1 GeV \n",
    "\n",
    "# Compute beta and gamma for the particle \n",
    "\n",
    "p =  np.sqrt(ek*ek + 2*ek*m0)\n",
    "def _beta(ek):\n",
    "    return np.sqrt(ek*ek + 2*ek*m0) / (ek+m0) \n",
    "def _gamma(ek): \n",
    "    return 1 / np.sqrt( 1 - _beta(ek)*_beta(ek) ) "
   ]
  },
  {
   "cell_type": "code",
   "execution_count": null,
   "metadata": {},
   "outputs": [],
   "source": [
    "print('***** Starting values for the muon *****')\n",
    "print('p = ',p,' MeV  c^-1') \n",
    "print('beta = ',_beta(ek))\n",
    "print('gamma = ',_gamma(ek)) \n",
    "print('beta * gamma =  ', _beta(ek)*_gamma(ek),'\\n')\n",
    "\n",
    "beta = _beta(ek)\n",
    "gamma = _gamma(ek)\n"
   ]
  },
  {
   "cell_type": "markdown",
   "metadata": {},
   "source": [
    "For 0.1 < beta*gamma < 1000, the mean energy loss rate of a heavy charged particle in a medium is described by the Bethe equation \n",
    "Start preparing the \"ingredients\" for the Bethe equation\n",
    "\n",
    "First, Compute maximum energy transfer to an electron of target material in a single collision"
   ]
  },
  {
   "cell_type": "code",
   "execution_count": null,
   "metadata": {},
   "outputs": [],
   "source": [
    "\n",
    "def _Wmax(_ek):\n",
    "    tmp_beta = _beta(_ek)\n",
    "    tmp_gamma = _gamma(_ek)\n",
    "    return 2*me*(tmp_beta*tmp_gamma)**2 / (1 + 2*tmp_gamma*me / m0 + (me / m0)**2  )\n",
    "\n",
    "print('***** Maximum energy transfer to an electron for starting muon: ***** ')\n",
    "print('Wmax = ',_Wmax(ek) / 1e3,' GeV\\n' ) "
   ]
  },
  {
   "cell_type": "code",
   "execution_count": null,
   "metadata": {},
   "outputs": [],
   "source": [
    "# Look up material properties (water)\n",
    "# https://pdg.lbl.gov/2024/AtomicNuclearProperties/HTML/water_liquid.html  \n",
    "\n",
    "Z_A=0.55509 #mol g^-1, atomic number Z over atomic mass mol g^-1 \n",
    "rho=1 #g cm^-3, density of liquid water \n",
    "I=7.97e-5 #MeV, mean excitation energy\n",
    "\n",
    "K=0.307075 #MeV mol^−1 cm2\n",
    "\n",
    "# Define the Bethe formula as a funcion taking beta, gamma as arguments. Dimension of dE/dx is MeV/cm \n",
    "\n",
    "def de_dx(_ek):\n",
    "    tmp_beta = _beta(_ek)\n",
    "    tmp_gamma = _gamma(_ek) \n",
    "    return K*Z_A*(1/tmp_beta**2) * (0.5 *np.log(2*me* tmp_beta**2 *tmp_gamma**2 * _Wmax(_ek) / I**2) - tmp_beta**2 ) * rho  \n",
    "\n",
    "e_loss = de_dx(ek) * h \n",
    "print('*****  Energy loss across the tank with constant dE/dx *****')\n",
    "print(e_loss, 'MeV')"
   ]
  },
  {
   "cell_type": "code",
   "execution_count": null,
   "metadata": {},
   "outputs": [],
   "source": [
    "# Try splitting the muon path inside the tank into smaller steps of dx = 10 cm\n",
    "# Update energy of muon after each step  \n",
    "\n",
    "print('*****  Computing dE/dx in steps across the tank *****\\n')\n",
    "\n",
    "def _eloss_step(_ek,_dx): \n",
    "    _eloss = de_dx(_ek) * _dx \n",
    "    print('Step energy loss: ', _eloss, 'MeV')\n",
    "    return _eloss\n",
    "\n",
    "dx = 10 #cm \n",
    "\n",
    "# As a first check, compute energy loss for a dx = 10 cm step in water  \n",
    "\n",
    "ek = 1000 # GeV\n",
    "eloss = _eloss_step(ek,dx)\n",
    "\n",
    "# Update kinetic energy, beta and gamma\n",
    "ek = ek - eloss  \n",
    "beta = _beta(ek)\n",
    "gamma = _gamma(ek)  \n",
    "print('Muon energy after one step: ', ek)\n"
   ]
  },
  {
   "cell_type": "code",
   "execution_count": null,
   "metadata": {},
   "outputs": [],
   "source": [
    "# Now compute energy loss with nsteps to cover the full height of the tank (h = 120 cm )\n",
    "\n",
    "print('*****  Now iterate steps for the full height of the tank *****\\n')\n",
    "\n",
    "ek = 1000. # re-set the energy to 1 GeV  \n",
    "\n",
    "nsteps = int(h/dx)\n",
    "tot_eloss = 0.\n",
    "\n",
    "# Initialize arrays to save energy loss and beta*gamma at each step \n",
    "eloss_array = np.zeros(nsteps)\n",
    "bg_array = np.zeros(nsteps)\n",
    "\n",
    "for i in range(nsteps): \n",
    "    eloss = _eloss_step(ek, dx)\n",
    "    tot_eloss += eloss\n",
    "     \n",
    "    ek = ek - eloss  \n",
    "    \n",
    "    eloss_array[i] = eloss / (dx * rho)\n",
    "    bg_array[i] = _beta(ek) * _gamma(ek)\n",
    "    \n",
    "print('\\nMuon kinetic energy after passage in the tank: ', ek, 'MeV')    \n",
    "print('Total energy deposited in the tank:', tot_eloss, 'MeV')\n",
    "print('Check: ', ek + tot_eloss )\n"
   ]
  },
  {
   "cell_type": "code",
   "execution_count": null,
   "metadata": {},
   "outputs": [],
   "source": [
    "# Plot dE/dx as a function of beta*gamma \n",
    "\n",
    "import matplotlib.pyplot as plt\n",
    "\n",
    "plt.xscale('log')\n",
    "plt.xlim(6,10.2)\n",
    "plt.xlabel(r'$\\beta \\gamma$', size = 15)\n",
    "plt.ylabel(r'dE/dx (MeV g$^{-1}$ cm$^{2}$)', size =  15)\n",
    "plt.scatter(bg_array, eloss_array)"
   ]
  },
  {
   "cell_type": "code",
   "execution_count": null,
   "metadata": {},
   "outputs": [],
   "source": [
    "# In this way we have computed the energy loss based on the mean rate given by the Bethe formula\n",
    "# Now let's take into account the energy loss probability distribution, described by a Landau distribution   \n",
    "# Install landaupy with \"pip install git+https://github.com/SengerM/landaupy\"\n",
    "\n",
    "from landaupy import landau\n",
    "\n",
    "# Define function to compute energy loss from a Landau distribution at each step \n",
    " \n",
    "def _eloss_step_landau(_ek,_dx):\n",
    "    beta = _beta(_ek)\n",
    "    gamma = _gamma(_ek) \n",
    "    \n",
    "    # Width of the Landau \n",
    "    width =  K/2*Z_A*(_dx*rho/beta**2) \n",
    "    \n",
    "    # MPV of the Landau \n",
    "    mpv = width \\\n",
    "            *( np.log(2*me*beta**2*gamma**2/I) \\\n",
    "                +np.log(width/I) + 0.2\n",
    "                         -beta**2 )\n",
    "    \n",
    "    # Extract a value from the Landau distribution         \n",
    "    _eloss = landau.sample(x_mpv=mpv, xi=width, n_samples=1) \n",
    "    \n",
    "    print('Step energy loss: ', _eloss, 'MeV')\n",
    "    return _eloss\n"
   ]
  },
  {
   "cell_type": "code",
   "execution_count": null,
   "metadata": {},
   "outputs": [],
   "source": [
    "# Now let's simulate steps inside the tank, each time extracting the energy loss from the Landau distribution\n",
    "\n",
    "print('*****  Iterate steps for the full height of the tank *****')\n",
    "print('*****  computing energy loss from a Landau distribution *****\\n')\n",
    "\n",
    "ek = 1000. # reset primary kinetic energy \n",
    "\n",
    "d_eloss_array = np.zeros(nsteps)\n",
    "tot_eloss_landau = 0.\n",
    " \n",
    "for i in range(nsteps): \n",
    "    eloss = _eloss_step_landau(ek,dx)\n",
    "    tot_eloss_landau += eloss \n",
    "    d_eloss_array[i] = eloss\n",
    "    tot_eloss += eloss\n",
    "     \n",
    "    ek = ek - eloss  \n",
    "    \n",
    "print('\\nMuon kinetic energy after passage in the tank: ', ek, 'MeV')    \n",
    "print('Total energy deposited in the tank:', tot_eloss_landau, 'MeV')\n"
   ]
  },
  {
   "cell_type": "code",
   "execution_count": null,
   "metadata": {},
   "outputs": [],
   "source": [
    "plt.xlabel(r'E$_{loss}$ (MeV)', size = 14)\n",
    "plt.ylabel('Entries', size = 14)\n",
    "plt.hist(d_eloss_array, bins = np.linspace(10,40,30), histtype='stepfilled')\n"
   ]
  },
  {
   "cell_type": "code",
   "execution_count": null,
   "metadata": {},
   "outputs": [],
   "source": []
  }
 ],
 "metadata": {
  "kernelspec": {
   "display_name": "Python 3 (ipykernel)",
   "language": "python",
   "name": "python3"
  },
  "language_info": {
   "codemirror_mode": {
    "name": "ipython",
    "version": 3
   },
   "file_extension": ".py",
   "mimetype": "text/x-python",
   "name": "python",
   "nbconvert_exporter": "python",
   "pygments_lexer": "ipython3",
   "version": "3.9.7"
  },
  "vscode": {
   "interpreter": {
    "hash": "0c60814a34b1de8e9916497fa254bba583838094421e986a56c7f9e13e41d916"
   }
  }
 },
 "nbformat": 4,
 "nbformat_minor": 2
}
