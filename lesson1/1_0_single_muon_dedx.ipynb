{
 "cells": [
  {
   "cell_type": "markdown",
   "metadata": {},
   "source": [
    "### Tutorial for PHYS-F-420 Part 1\n",
    "designed and written by Andrea Parenti, Katarina Simkova, Ioana Maris\n",
    "\n",
    "Simulate the passage of articles through matter. \n",
    "\n",
    "First part: what happens to a muons passing trough a water volume?\n",
    "   - Which is the energy loss as a function of the path traversed?\n",
    "   - Include the energy deposit fluctuations generating based on a Landau distribution for ionisation\n",
    "   - Consider 2 muons one with an energy of 1 GeV and one with an energy of 100 GeV and look at the relative energy loss  \n"
   ]
  },
  {
   "cell_type": "code",
   "execution_count": 1,
   "metadata": {},
   "outputs": [],
   "source": [
    "import numpy as np  \n",
    "from astropy import units as u\n",
    "\n",
    "# Define relevant physical constants   \n",
    "m0 = 105.6583745 * u.MeV# MeV, muon mass\n",
    "me = 0.510998950 * u.MeV # MeV, electron mass \n",
    "\n",
    "# # Define WCD cylinder tank dimensions  \n",
    "h = 120 * u.cm #cm \n",
    "r = 180 * u.cm #cm \n",
    "\n",
    "# Choose kinetic energy of the muon \n",
    "ek = 1000.* u.MeV # 1000 MeV = 1 GeV \n",
    "\n",
    "# Compute beta and gamma for the particle \n",
    "\n",
    "p =  np.sqrt(ek*ek + 2*ek*m0)\n",
    "def _beta(ek):\n",
    "    return np.sqrt(ek*ek + 2*ek*m0) / (ek+m0) \n",
    "def _gamma(ek): \n",
    "    return 1 / np.sqrt( 1 - _beta(ek)*_beta(ek) ) "
   ]
  },
  {
   "cell_type": "code",
   "execution_count": 2,
   "metadata": {},
   "outputs": [
    {
     "name": "stdout",
     "output_type": "stream",
     "text": [
      "***** Starting values for the muon *****\n",
      "p =  1100.5983595299422 MeV\n",
      "beta =  0.9954235276584903\n",
      "gamma =  10.464465119137257\n",
      "beta * gamma =   10.416574783950832 \n",
      "\n"
     ]
    }
   ],
   "source": [
    "print('***** Starting values for the muon *****')\n",
    "print('p = ',p) \n",
    "print('beta = ',_beta(ek))\n",
    "print('gamma = ',_gamma(ek)) \n",
    "print('beta * gamma =  ', _beta(ek)*_gamma(ek),'\\n')\n",
    "\n",
    "beta = _beta(ek)\n",
    "gamma = _gamma(ek)\n"
   ]
  },
  {
   "cell_type": "markdown",
   "metadata": {},
   "source": [
    "For 0.1 < beta*gamma < 1000, the mean energy loss rate of a heavy charged particle in a medium is described by the Bethe equation \n",
    "Start preparing the \"ingredients\" for the Bethe equation\n",
    "\n",
    "First, Compute maximum energy transfer to an electron of target material in a single collision"
   ]
  },
  {
   "cell_type": "code",
   "execution_count": 3,
   "metadata": {},
   "outputs": [
    {
     "name": "stdout",
     "output_type": "stream",
     "text": [
      "***** Maximum energy transfer to an electron for starting muon: ***** \n",
      "Wmax =  0.10069707532222076 GeV\n"
     ]
    }
   ],
   "source": [
    "def _Wmax(_ek):\n",
    "    tmp_beta = _beta(_ek)\n",
    "    tmp_gamma = _gamma(_ek)\n",
    "    return 2*me*(tmp_beta*tmp_gamma)**2 / (1 + 2*tmp_gamma*me / m0 + (me / m0)**2  )\n",
    "\n",
    "Wmax = _Wmax(ek)\n",
    "\n",
    "print('***** Maximum energy transfer to an electron for starting muon: ***** ')\n",
    "print('Wmax = ',Wmax.to(u.GeV) ) \n"
   ]
  },
  {
   "cell_type": "code",
   "execution_count": 4,
   "metadata": {},
   "outputs": [],
   "source": [
    "# Look up material properties (water)\n",
    "# https://pdg.lbl.gov/2024/AtomicNuclearProperties/HTML/water_liquid.html  \n",
    "\n",
    "Z_A=0.55509 *u.mol / u.g #mol g^-1, atomic number Z over atomic mass mol g^-1 \n",
    "rho=1 * u.g / u.cm**3 #g cm^-3, density of liquid water \n",
    "I=7.97e-5 * u.MeV #MeV, mean excitation energy\n",
    "\n",
    "K=0.307075 * u.MeV * u.cm **2 / u.mol #MeV mol^−1 cm2\n",
    "\n",
    "# Define the Bethe formula as a funcion taking beta, gamma as arguments. Dimension of dE/dx is MeV/cm \n",
    "\n",
    "def de_dx(_ek):\n",
    "    tmp_beta = _beta(_ek)\n",
    "    tmp_gamma = _gamma(_ek) \n",
    "    return K*Z_A*(1/tmp_beta**2) * (0.5 *np.log(2*me* tmp_beta**2 *tmp_gamma**2 * _Wmax(_ek) / I**2) - tmp_beta**2 ) * rho  \n",
    "\n",
    "# Define the Bethe formula as a funcion, with the muon kinetic energy as argument. Dimension of dE/dx is MeV/cm \n",
    "\n",
    "def de_dx(_beta,_gamma, _Wmax):\n",
    "    return K*Z_A*(1/_beta**2) * (0.5 *np.log(2*me* _beta**2 *_gamma**2 * _Wmax / I**2) - _beta**2 ) * rho  "
   ]
  },
  {
   "cell_type": "code",
   "execution_count": 5,
   "metadata": {},
   "outputs": [
    {
     "data": {
      "image/png": "[encoded data removed]",
      "text/plain": [
       "<Figure size 432x288 with 1 Axes>"
      ]
     },
     "metadata": {
      "needs_background": "light"
     },
     "output_type": "display_data"
    }
   ],
   "source": [
    "import matplotlib.pyplot as plt\n",
    "\n",
    "# Check correct implementation of the Bethe formula \n",
    "ek_values = np.logspace(-1,4,100)\n",
    "ek_values = ek_values * u.MeV \n",
    "\n",
    "beta_values = _beta(ek_values)\n",
    "gamma_values = _gamma(ek_values) \n",
    "Wmax_values = _Wmax(ek_values)\n",
    "\n",
    "plot =  plt.scatter(ek_values, de_dx(beta_values, gamma_values, Wmax_values).value, c='black', marker='.')\n",
    "plt.ylabel('dE/dx / MeV/cm ', size=16)\n",
    "plt.xlabel(r'E$_k$ / MeV ', size=16)\n",
    "\n",
    "plt.xscale('log')\n",
    "plt.yscale('log')\n"
   ]
  },
  {
   "cell_type": "code",
   "execution_count": 6,
   "metadata": {},
   "outputs": [
    {
     "data": {
      "image/png": "[encoded data removed]",
      "text/plain": [
       "<Figure size 432x288 with 1 Axes>"
      ]
     },
     "metadata": {
      "needs_background": "light"
     },
     "output_type": "display_data"
    }
   ],
   "source": [
    "\n",
    "plot =  plt.scatter(beta_values*gamma_values, de_dx(beta_values, gamma_values, Wmax_values).value, c='black', marker='.')\n",
    "plt.ylabel('dE/dx / MeV/cm  ', size=16)\n",
    "plt.xlabel(r'$\\beta \\gamma$ ', size=16)\n",
    "\n",
    "plt.xscale('log')\n",
    "plt.yscale('log')"
   ]
  },
  {
   "cell_type": "code",
   "execution_count": 7,
   "metadata": {},
   "outputs": [
    {
     "name": "stdout",
     "output_type": "stream",
     "text": [
      "*****  Energy loss across the tank with constant dE/dx *****\n",
      "270.5621089959322 MeV\n"
     ]
    }
   ],
   "source": [
    "# Compute energy loss according to the Bethe formula assuming dE/dx constant across full tank \n",
    "\n",
    "e_loss = de_dx(beta,gamma,Wmax) * h \n",
    "print('*****  Energy loss across the tank with constant dE/dx *****')\n",
    "print(e_loss)"
   ]
  }
 ],
 "metadata": {
  "kernelspec": {
   "display_name": "Python 3",
   "language": "python",
   "name": "python3"
  },
  "language_info": {
   "codemirror_mode": {
    "name": "ipython",
    "version": 3
   },
   "file_extension": ".py",
   "mimetype": "text/x-python",
   "name": "python",
   "nbconvert_exporter": "python",
   "pygments_lexer": "ipython3",
   "version": "3.8.10"
  },
  "vscode": {
   "interpreter": {
    "hash": "0c60814a34b1de8e9916497fa254bba583838094421e986a56c7f9e13e41d916"
   }
  }
 },
 "nbformat": 4,
 "nbformat_minor": 2
}
