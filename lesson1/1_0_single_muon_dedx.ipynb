{
 "cells": [
  {
   "cell_type": "code",
   "execution_count": 10,
   "metadata": {},
   "outputs": [],
   "source": [
    "\"\"\"\n",
    "Created on Nov 24 2024\n",
    "\n",
    "@author: Andrea, starting from Katarina's work   \n",
    "\n",
    "Consider a relativistic muon crossing a WCD vertically. \n",
    "The energy deposit is firstly computed from the Bethe formula, \n",
    "then considering a Landau distribution.     \n",
    " \n",
    "\"\"\"\n",
    "\n",
    "import numpy as np  \n",
    "\n",
    "# Define relevant physical constants   \n",
    "m0 = 105.6583745 # MeV, muon mass\n",
    "me = 0.510998950 # MeV, electron mass \n",
    "\n",
    "# # Define WCD cylinder tank dimensions  \n",
    "h = 120 #cm \n",
    "r = 180 #cm \n",
    "\n",
    "# Choose kinetic energy of the muon \n",
    "ek = 1000. # 1000 MeV = 1 GeV \n",
    "\n",
    "# Compute beta and gamma for the particle \n",
    "\n",
    "p =  np.sqrt(ek*ek + 2*ek*m0)\n",
    "def _beta(ek):\n",
    "    return np.sqrt(ek*ek + 2*ek*m0) / (ek+m0) \n",
    "def _gamma(ek): \n",
    "    return 1 / np.sqrt( 1 - _beta(ek)*_beta(ek) ) "
   ]
  },
  {
   "cell_type": "code",
   "execution_count": 69,
   "metadata": {},
   "outputs": [
    {
     "name": "stdout",
     "output_type": "stream",
     "text": [
      "***** Starting values for the muon ***** \n",
      "\n",
      "p =  1100.5983595299422  MeV  c^-1\n",
      "beta =  0.9920439069958685\n",
      "gamma =  7.943293707236796\n",
      "beta * gamma =   7.880096123742888 \n",
      "\n"
     ]
    }
   ],
   "source": [
    "print('***** Starting values for the muon *****')\n",
    "print('p = ',p,' MeV  c^-1') \n",
    "print('beta = ',_beta(ek))\n",
    "print('gamma = ',_gamma(ek)) \n",
    "print('beta * gamma =  ', _beta(ek)*_gamma(ek),'\\n')\n",
    "\n",
    "beta = _beta(ek)\n",
    "gamma = _gamma(ek)\n"
   ]
  },
  {
   "cell_type": "code",
   "execution_count": 71,
   "metadata": {},
   "outputs": [
    {
     "name": "stdout",
     "output_type": "stream",
     "text": [
      "***** Maximum energy transfer to an electron for starting muon: ***** \n",
      "Wmax =  0.05893256204619674  GeV\n",
      "\n"
     ]
    }
   ],
   "source": [
    "# For 0.1 < beta*gamma < 1000, the mean energy loss rate of a heavy charged particle in a medium is described by the Bethe equation \n",
    "# Start preparing the \"ingredients\" for the Bethe equation\n",
    "\n",
    "# First, Compute maximum energy transfer to an electron of target material in a single collision \n",
    "\n",
    "def _Wmax(_ek):\n",
    "    tmp_beta = _beta(_ek)\n",
    "    tmp_gamma = _gamma(_ek)\n",
    "    return 2*me*(tmp_beta*tmp_gamma)**2 / (1 + 2*tmp_gamma*me / m0 + (me / m0)**2  )\n",
    "\n",
    "print('***** Maximum energy transfer to an electron for starting muon: ***** ')\n",
    "print('Wmax = ',_Wmax(ek) / 1e3,' GeV\\n' ) "
   ]
  },
  {
   "cell_type": "code",
   "execution_count": 55,
   "metadata": {},
   "outputs": [
    {
     "name": "stdout",
     "output_type": "stream",
     "text": [
      "261.0932995466105 MeV\n"
     ]
    }
   ],
   "source": [
    "# Look up material properties (water)\n",
    "# https://pdg.lbl.gov/2024/AtomicNuclearProperties/HTML/water_liquid.html  \n",
    "\n",
    "Z_A=0.55509 #mol g^-1, atomic number Z over atomic mass mol g^-1 \n",
    "rho=1 #g cm^-3, density of liquid water \n",
    "I=7.97e-5 #MeV, mean excitation energy\n",
    "\n",
    "K=0.307075 #MeV mol^−1 cm2\n",
    "\n",
    "# Define the Bethe formula as a funcion taking beta, gamma as arguments. Dimension of dE/dx is MeV/cm \n",
    "\n",
    "def de_dx(_ek):\n",
    "    tmp_beta = _beta(_ek)\n",
    "    tmp_gamma = _gamma(_ek) \n",
    "    return K*Z_A*(1/tmp_beta**2) * (0.5 *np.log(2*me* tmp_beta**2 *tmp_gamma**2 * _Wmax(_ek) / I**2) - tmp_beta**2 ) * rho  \n",
    "\n",
    "e_loss = de_dx(ek) * h \n",
    "print('*****  Energy loss across the tank with constant dE/dx *****')\n",
    "print(e_loss, 'MeV')"
   ]
  },
  {
   "cell_type": "code",
   "execution_count": 72,
   "metadata": {},
   "outputs": [
    {
     "name": "stdout",
     "output_type": "stream",
     "text": [
      "*****  Computing dE/dx in steps across the tank *****\n",
      "\n",
      "Step energy loss:  22.54684241632768 MeV\n",
      "977.4531575836724\n"
     ]
    }
   ],
   "source": [
    "# Try splitting the muon path inside the tank into smaller steps of dx = 10 cm\n",
    "# Update energy of muon after each step  \n",
    "\n",
    "print('*****  Computing dE/dx in steps across the tank *****\\n')\n",
    "\n",
    "def _eloss_step(_ek,_dx): \n",
    "    _eloss = de_dx(_ek) * _dx \n",
    "    print('Step energy loss: ', _eloss, 'MeV')\n",
    "    return _eloss\n",
    "\n",
    "dx = 10 #cm \n",
    "\n",
    "# As a first check, compute energy loss for a dx = 10 cm step in water  \n",
    "\n",
    "ek = 1000 # GeV\n",
    "eloss = _eloss_step(ek,dx)\n",
    "\n",
    "# Update kinetic energy, beta and gamma\n",
    "ek = ek - eloss  \n",
    "beta = _beta(ek)\n",
    "gamma = _gamma(ek)  \n",
    "print('Muon energy after one step: ', ek)\n"
   ]
  },
  {
   "cell_type": "code",
   "execution_count": 58,
   "metadata": {},
   "outputs": [
    {
     "name": "stdout",
     "output_type": "stream",
     "text": [
      "Energy loss:  22.54684241632768 MeV\n",
      "Energy loss:  22.486282885916154 MeV\n",
      "Energy loss:  22.424913733689166 MeV\n",
      "Energy loss:  22.362724371117842 MeV\n",
      "Energy loss:  22.299705198022245 MeV\n",
      "Energy loss:  22.23584784769118 MeV\n",
      "Energy loss:  22.17114547870078 MeV\n",
      "Energy loss:  22.105593122749543 MeV\n",
      "Energy loss:  22.03918809988977 MeV\n",
      "Energy loss:  21.971930515104305 MeV\n",
      "Energy loss:  21.903823853401715 MeV\n",
      "Energy loss:  21.834875694667755 MeV\n",
      "733.617126782722 MeV\n",
      "266.38287321727813 MeV\n",
      "Check:  1000.0000000000002\n",
      "10.202179331707233\n"
     ]
    }
   ],
   "source": [
    "# Now compute energy loss with nsteps to cover the full height of the tank (h = 120 cm )\n",
    "\n",
    "print('*****  Now iterate steps for the full height of the tank *****\\n')\n",
    "\n",
    "ek = 1000. # re-set the energy to 1 GeV  \n",
    "\n",
    "nsteps = int(h/dx)\n",
    "tot_eloss = 0.\n",
    "\n",
    "# Initialize arrays to save energy loss and beta*gamma at each step \n",
    "eloss_array = np.zeros(nsteps)\n",
    "bg_array = np.zeros(nsteps)\n",
    "\n",
    "for i in range(nsteps): \n",
    "    eloss = _eloss_step(ek, dx)\n",
    "    tot_eloss += eloss\n",
    "     \n",
    "    ek = ek - eloss  \n",
    "    \n",
    "    eloss_array[i] = eloss / (dx * rho)\n",
    "    bg_array[i] = _beta(ek) * _gamma(ek)\n",
    "    \n",
    "print('\\nMuon kinetic energy after passage in the tank: ', ek, 'MeV')    \n",
    "print('Total energy deposited in the tank:', tot_eloss, 'MeV')\n",
    "print('Check: ', ek + tot_eloss )\n"
   ]
  },
  {
   "cell_type": "code",
   "execution_count": 74,
   "metadata": {},
   "outputs": [
    {
     "data": {
      "text/plain": [
       "<matplotlib.collections.PathCollection at 0x7f4048ac3970>"
      ]
     },
     "execution_count": 74,
     "metadata": {},
     "output_type": "execute_result"
    },
    {
     "data": {
      "image/png": "[encoded data removed]",
      "text/plain": [
       "<Figure size 432x288 with 1 Axes>"
      ]
     },
     "metadata": {
      "needs_background": "light"
     },
     "output_type": "display_data"
    }
   ],
   "source": [
    "# Plot dE/dx as a function of beta*gamma \n",
    "\n",
    "import matplotlib.pyplot as plt\n",
    "\n",
    "plt.xscale('log')\n",
    "plt.xlim(6,10.2)\n",
    "plt.xlabel(r'$\\beta \\gamma$', size = 15)\n",
    "plt.ylabel(r'dE/dx (MeV g$^{-1}$ cm$^{2}$)', size =  15)\n",
    "plt.scatter(bg_array, eloss_array)"
   ]
  },
  {
   "cell_type": "code",
   "execution_count": 77,
   "metadata": {},
   "outputs": [
    {
     "name": "stdout",
     "output_type": "stream",
     "text": [
      "Step energy loss:  1.9243190079359729 MeV\n"
     ]
    }
   ],
   "source": [
    "# In this way we have computed the energy loss based on the mean rate given by the Bethe formula\n",
    "# Now let's take into account the energy loss probability distribution, described by a Landau distribution   \n",
    "# Install landaupy with \"pip install git+https://github.com/SengerM/landaupy\"\n",
    "\n",
    "from landaupy import landau\n",
    "\n",
    "# Define function to compute energy loss from a Landau distribution at each step \n",
    " \n",
    "def _eloss_step_landau(_ek,_dx):\n",
    "    beta = _beta(_ek)\n",
    "    gamma = _gamma(_ek) \n",
    "    \n",
    "    # Width of the Landau \n",
    "    width =  K/2*Z_A*(_dx*rho/beta**2) \n",
    "    \n",
    "    # MPV of the Landau \n",
    "    mpv = width \\\n",
    "            *( np.log(2*me*beta**2*gamma**2/I) \\\n",
    "                +np.log(width/I) + 0.2\n",
    "                         -beta**2 )\n",
    "    \n",
    "    # Extract a value from the Landau distribution         \n",
    "    _eloss = landau.sample(x_mpv=mpv, xi=width, n_samples=1) \n",
    "    \n",
    "    print('Step energy loss: ', _eloss, 'MeV')\n",
    "    return _eloss\n"
   ]
  },
  {
   "cell_type": "code",
   "execution_count": 84,
   "metadata": {},
   "outputs": [
    {
     "name": "stdout",
     "output_type": "stream",
     "text": [
      "*****  Iterate steps for the full height of the tank *****\n",
      "*****  computing energy loss from a Landau distribution *****\n",
      "\n",
      "Step energy loss:  20.222062976503143 MeV\n",
      "Step energy loss:  22.68267982799023 MeV\n",
      "Step energy loss:  23.455092815075844 MeV\n",
      "Step energy loss:  49.21831038546553 MeV\n",
      "Step energy loss:  20.533277071239986 MeV\n",
      "Step energy loss:  19.605017516192433 MeV\n",
      "Step energy loss:  19.571025049509114 MeV\n",
      "Step energy loss:  25.524625044750923 MeV\n",
      "Step energy loss:  19.12133246239245 MeV\n",
      "Step energy loss:  28.478333303720483 MeV\n",
      "Step energy loss:  21.024159141704807 MeV\n",
      "Step energy loss:  23.524708907151798 MeV\n",
      "\n",
      "Muon kinetic energy after passage in the tank:  707.0393754983032 MeV\n",
      "Total energy deposited in the tank: 292.96062450169677 MeV\n"
     ]
    }
   ],
   "source": [
    "# Now let's simulate steps inside the tank, each time extracting the energy loss from the Landau distribution\n",
    "\n",
    "print('*****  Iterate steps for the full height of the tank *****')\n",
    "print('*****  computing energy loss from a Landau distribution *****\\n')\n",
    "\n",
    "ek = 1000. # reset primary kinetic energy \n",
    "\n",
    "d_eloss_array = np.zeros(nsteps)\n",
    "tot_eloss_landau = 0.\n",
    " \n",
    "for i in range(nsteps): \n",
    "    eloss = _eloss_step_landau(ek,dx)\n",
    "    tot_eloss_landau += eloss \n",
    "    d_eloss_array[i] = eloss\n",
    "    tot_eloss += eloss\n",
    "     \n",
    "    ek = ek - eloss  \n",
    "    \n",
    "print('\\nMuon kinetic energy after passage in the tank: ', ek, 'MeV')    \n",
    "print('Total energy deposited in the tank:', tot_eloss_landau, 'MeV')\n"
   ]
  },
  {
   "cell_type": "code",
   "execution_count": 86,
   "metadata": {},
   "outputs": [
    {
     "data": {
      "text/plain": [
       "(array([0., 0., 0., 0., 0., 0., 0., 0., 1., 3., 2., 0., 1., 2., 0., 1., 0.,\n",
       "        1., 0., 0., 0., 0., 0., 0., 0., 0., 0., 0., 0.]),\n",
       " array([10.        , 11.03448276, 12.06896552, 13.10344828, 14.13793103,\n",
       "        15.17241379, 16.20689655, 17.24137931, 18.27586207, 19.31034483,\n",
       "        20.34482759, 21.37931034, 22.4137931 , 23.44827586, 24.48275862,\n",
       "        25.51724138, 26.55172414, 27.5862069 , 28.62068966, 29.65517241,\n",
       "        30.68965517, 31.72413793, 32.75862069, 33.79310345, 34.82758621,\n",
       "        35.86206897, 36.89655172, 37.93103448, 38.96551724, 40.        ]),\n",
       " <a list of 1 Patch objects>)"
      ]
     },
     "execution_count": 86,
     "metadata": {},
     "output_type": "execute_result"
    },
    {
     "data": {
      "image/png": "[encoded data removed]",
      "text/plain": [
       "<Figure size 432x288 with 1 Axes>"
      ]
     },
     "metadata": {
      "needs_background": "light"
     },
     "output_type": "display_data"
    }
   ],
   "source": [
    "plt.xlabel(r'E$_{loss}$ (MeV)', size = 14)\n",
    "plt.ylabel('Entries', size = 14)\n",
    "plt.hist(d_eloss_array, bins = np.linspace(10,40,30), histtype='stepfilled')\n"
   ]
  },
  {
   "cell_type": "code",
   "execution_count": null,
   "metadata": {},
   "outputs": [],
   "source": []
  }
 ],
 "metadata": {
  "kernelspec": {
   "display_name": "Python 3",
   "language": "python",
   "name": "python3"
  },
  "language_info": {
   "codemirror_mode": {
    "name": "ipython",
    "version": 3
   },
   "file_extension": ".py",
   "mimetype": "text/x-python",
   "name": "python",
   "nbconvert_exporter": "python",
   "pygments_lexer": "ipython3",
   "version": "3.8.10"
  },
  "orig_nbformat": 4,
  "vscode": {
   "interpreter": {
    "hash": "0c60814a34b1de8e9916497fa254bba583838094421e986a56c7f9e13e41d916"
   }
  }
 },
 "nbformat": 4,
 "nbformat_minor": 2
}
