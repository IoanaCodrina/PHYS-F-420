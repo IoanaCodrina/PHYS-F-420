{
 "cells": [
  {
   "cell_type": "code",
   "execution_count": 22,
   "metadata": {},
   "outputs": [],
   "source": [
    "import numpy as np  \n",
    "from landaupy import landau\n",
    "import matplotlib.pyplot as plt\n",
    "\n",
    "# Choose directory where to save output plot \n",
    "outdir = './plots/'\n",
    "\n",
    "# Define physics useful constants   \n",
    "\n",
    "m0 = 105.6583745 # MeV, muon mass\n",
    "me = 0.510998950 # MeV, electron mass \n",
    "\n",
    "# Define cylinder tank dimensions \n",
    "h = 120 #cm \n",
    "r = 180 #cm \n",
    "\n",
    "# Look up material properties (water)\n",
    "# https://pdg.lbl.gov/2024/AtomicNuclearProperties/HTML/water_liquid.html  \n",
    "\n",
    "Z_A=0.55509 #mol g^-1, atomic number Z over atomic mass mol g^-1 \n",
    "rho=1 #g cm^-3, density of liquid water \n",
    "I=7.97e-5 #MeV, mean excitation energy\n",
    "\n",
    "K=0.307075 #MeV mol^−1 cm2\n",
    "\n",
    "# Define kinetic energy of the muon \n",
    "\n",
    "ek = 1000. # 1000 MeV = 1 GeV \n"
   ]
  },
  {
   "cell_type": "code",
   "execution_count": 23,
   "metadata": {},
   "outputs": [],
   "source": [
    "def _beta(ek):\n",
    "    return np.sqrt(ek*ek + 2*ek*m0) / (ek+m0) \n",
    "def _gamma(ek): \n",
    "    return 1 / np.sqrt( 1 - _beta(ek)*_beta(ek) ) \n",
    "\n",
    "beta = _beta(ek)\n",
    "gamma = _gamma(ek)"
   ]
  },
  {
   "cell_type": "code",
   "execution_count": 40,
   "metadata": {},
   "outputs": [],
   "source": [
    "# Define a function that computes energy losses of a single muon \n",
    "# step by step in the tank, extracting from a Landau distribution,\n",
    "# and gives as an output the total energy deposited\n",
    "\n",
    "def _eloss_step_landau(_ek, _dx,):\n",
    "    tmp_beta = _beta(_ek)\n",
    "    tmp_gamma = _gamma(_ek) \n",
    "    width =  K/2*Z_A*(_dx*rho/tmp_beta**2) \n",
    "    mpv = width \\\n",
    "            *( np.log(2*me*tmp_beta**2*tmp_gamma**2/I) \\\n",
    "                +np.log(width/I) + 0.2\n",
    "                         -tmp_beta**2 )\n",
    "    _eloss = landau.sample(x_mpv=mpv, xi=width, n_samples=1) \n",
    "    return _eloss\n",
    "         "
   ]
  },
  {
   "cell_type": "code",
   "execution_count": null,
   "metadata": {},
   "outputs": [],
   "source": [
    "\n",
    "# Now define a function that propagates the muon inside the tank for its full track lenght, \n",
    "# computing the energy loss at each step from a Landau distribution.\n",
    "# Have the function return the total energy deposited. \n",
    "# This function will be iterated for multiple muons.    \n",
    "\n",
    "def _eloss_tank_landau(_ek,_dx): \n",
    "    tmp_ek = _ek\n",
    "    tmp_beta = _beta(tmp_ek)\n",
    "    tmp_gamma = _gamma(tmp_ek) \n",
    "    \n",
    "    _tot_eloss_tank = 0. \n",
    "    nsteps = int(h/_dx) \n",
    "    \n",
    "    for i in range(nsteps): \n",
    "\n",
    "        _eloss =  _eloss_step_landau(tmp_ek,_dx)\n",
    "        _tot_eloss_tank += _eloss\n",
    "\n",
    "        # Update particle energy \n",
    "        tmp_ek = tmp_ek - _eloss  \n",
    "        tmp_beta = _beta(ek)\n",
    "        tmp_gamma = _gamma(ek) \n",
    "       \n",
    "\n",
    "    return _tot_eloss_tank"
   ]
  },
  {
   "cell_type": "code",
   "execution_count": 61,
   "metadata": {},
   "outputs": [],
   "source": [
    "# Choose step size and number of toy muons you want to launch \n",
    "\n",
    "dx = 10 #cm \n",
    "\n",
    "n_iter = 5000\n",
    "eloss_array = np.zeros(n_iter)\n",
    "\n",
    "for i in range(n_iter): \n",
    "    eloss_array[i] = _eloss_tank_landau(ek,dx) "
   ]
  },
  {
   "cell_type": "code",
   "execution_count": 64,
   "metadata": {},
   "outputs": [
    {
     "ename": "NameError",
     "evalue": "name 'outdir' is not defined",
     "output_type": "error",
     "traceback": [
      "\u001b[0;31m---------------------------------------------------------------------------\u001b[0m",
      "\u001b[0;31mNameError\u001b[0m                                 Traceback (most recent call last)",
      "\u001b[0;32m<ipython-input-64-7baab470d2cd>\u001b[0m in \u001b[0;36m<module>\u001b[0;34m\u001b[0m\n\u001b[1;32m      6\u001b[0m \u001b[0;34m\u001b[0m\u001b[0m\n\u001b[1;32m      7\u001b[0m \u001b[0mhist\u001b[0m \u001b[0;34m=\u001b[0m \u001b[0mplt\u001b[0m\u001b[0;34m.\u001b[0m\u001b[0mhist\u001b[0m\u001b[0;34m(\u001b[0m\u001b[0meloss_array\u001b[0m  \u001b[0;34m,\u001b[0m\u001b[0mbins\u001b[0m \u001b[0;34m=\u001b[0m \u001b[0mnp\u001b[0m\u001b[0;34m.\u001b[0m\u001b[0mlinspace\u001b[0m\u001b[0;34m(\u001b[0m\u001b[0;36m200.\u001b[0m\u001b[0;34m,\u001b[0m\u001b[0;36m600\u001b[0m\u001b[0;34m,\u001b[0m\u001b[0;36m60\u001b[0m\u001b[0;34m)\u001b[0m\u001b[0;34m)\u001b[0m\u001b[0;34m\u001b[0m\u001b[0;34m\u001b[0m\u001b[0m\n\u001b[0;32m----> 8\u001b[0;31m \u001b[0mplt\u001b[0m\u001b[0;34m.\u001b[0m\u001b[0msavefig\u001b[0m\u001b[0;34m(\u001b[0m\u001b[0moutdir\u001b[0m\u001b[0;34m+\u001b[0m\u001b[0;34m'/toymu_'\u001b[0m\u001b[0;34m+\u001b[0m\u001b[0mstr\u001b[0m\u001b[0;34m(\u001b[0m\u001b[0mn_iter\u001b[0m\u001b[0;34m)\u001b[0m\u001b[0;34m+\u001b[0m\u001b[0;34m'_eloss.eps'\u001b[0m\u001b[0;34m,\u001b[0m\u001b[0mformat\u001b[0m \u001b[0;34m=\u001b[0m \u001b[0;34m'eps'\u001b[0m\u001b[0;34m,\u001b[0m\u001b[0mbbox_inches\u001b[0m\u001b[0;34m=\u001b[0m\u001b[0;34m'tight'\u001b[0m\u001b[0;34m)\u001b[0m\u001b[0;34m\u001b[0m\u001b[0;34m\u001b[0m\u001b[0m\n\u001b[0m",
      "\u001b[0;31mNameError\u001b[0m: name 'outdir' is not defined"
     ]
    },
    {
     "data": {
      "image/png": "[encoded data removed]",
      "text/plain": [
       "<Figure size 432x288 with 1 Axes>"
      ]
     },
     "metadata": {
      "needs_background": "light"
     },
     "output_type": "display_data"
    }
   ],
   "source": [
    "# Plot histogram of total energy loss for the toy muons \n",
    "plt.figure(1) \n",
    "#plt.yscale('log')\n",
    "plt.xlabel('Energy loss (MeV)', size=14)\n",
    "plt.ylabel('Entries', size=14)\n",
    "\n",
    "hist = plt.hist(eloss_array  ,bins = np.linspace(200.,600,60))\n",
    "plt.savefig(outdir+'/toymu_'+str(n_iter)+'_eloss.eps',format = 'eps',bbox_inches='tight')\n"
   ]
  },
  {
   "cell_type": "code",
   "execution_count": null,
   "metadata": {},
   "outputs": [],
   "source": []
  }
 ],
 "metadata": {
  "kernelspec": {
   "display_name": "Python 3",
   "language": "python",
   "name": "python3"
  },
  "language_info": {
   "codemirror_mode": {
    "name": "ipython",
    "version": 3
   },
   "file_extension": ".py",
   "mimetype": "text/x-python",
   "name": "python",
   "nbconvert_exporter": "python",
   "pygments_lexer": "ipython3",
   "version": "3.8.10"
  },
  "orig_nbformat": 4,
  "vscode": {
   "interpreter": {
    "hash": "0c60814a34b1de8e9916497fa254bba583838094421e986a56c7f9e13e41d916"
   }
  }
 },
 "nbformat": 4,
 "nbformat_minor": 2
}
