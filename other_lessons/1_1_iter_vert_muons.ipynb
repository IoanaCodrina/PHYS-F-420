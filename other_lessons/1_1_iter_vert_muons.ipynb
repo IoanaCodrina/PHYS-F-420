{
 "cells": [
  {
   "cell_type": "code",
   "execution_count": 1,
   "metadata": {},
   "outputs": [],
   "source": [
    "import numpy as np  \n",
    "from landaupy import landau\n",
    "import matplotlib.pyplot as plt\n",
    "from astropy import units as u \n",
    "# Choose directory where to save output plot \n",
    "outdir = './plots/'\n",
    "\n",
    "# Define relevant physical constants   \n",
    "m0 = 105.6583745 * u.MeV# MeV, muon mass\n",
    "me = 0.510998950 * u.MeV # MeV, electron mass \n",
    "\n",
    "# # Define WCD cylinder tank dimensions  \n",
    "h = 120 * u.cm #cm \n",
    "r = 180 * u.cm #cm \n",
    "\n",
    "# Look up material properties (water)\n",
    "# https://pdg.lbl.gov/2024/AtomicNuclearProperties/HTML/water_liquid.html  \n",
    "\n",
    "Z_A=0.55509 *u.mol / u.g #mol g^-1, atomic number Z over atomic mass mol g^-1 \n",
    "rho=1 * u.g / u.cm**3 #g cm^-3, density of liquid water \n",
    "I=7.97e-5 * u.MeV #MeV, mean excitation energy\n",
    "\n",
    "K=0.307075 * u.MeV * u.cm **2 / u.mol #MeV mol^−1 cm2\n",
    "\n",
    "# Choose kinetic energy of the muon \n",
    "ek = 1000.* u.MeV # 1000 MeV = 1 GeV \n"
   ]
  },
  {
   "cell_type": "code",
   "execution_count": 2,
   "metadata": {},
   "outputs": [],
   "source": [
    "def _beta(ek):\n",
    "    return np.sqrt(ek*ek + 2*ek*m0) / (ek+m0) \n",
    "def _gamma(ek): \n",
    "    return 1 / np.sqrt( 1 - _beta(ek)*_beta(ek) ) \n",
    "\n",
    "beta = _beta(ek)\n",
    "gamma = _gamma(ek)"
   ]
  },
  {
   "cell_type": "code",
   "execution_count": 3,
   "metadata": {},
   "outputs": [],
   "source": [
    "# Retrieve the function that computes energy losses of a single muon \n",
    "# step by step in the tank, extracting from a Landau distribution,\n",
    "# and gives as an output the total energy deposited\n",
    "\n",
    "def _eloss_step_landau(_beta,_gamma,_dx):\n",
    "    \n",
    "    # Width of the Landau \n",
    "    width =  K/2*Z_A*(_dx*rho/_beta**2) \n",
    "    \n",
    "    # MPV of the Landau \n",
    "    mpv = width \\\n",
    "            *( np.log(2*me*_beta**2*_gamma**2/I) \\\n",
    "                +np.log(width/I) + 0.2\n",
    "                         -_beta**2 )\n",
    "    \n",
    "    # Extract a value from the Landau distribution         \n",
    "    _eloss = landau.sample(x_mpv=mpv.value, xi=width.value, n_samples=1) \n",
    "    \n",
    "    return _eloss * u.MeV\n",
    "         "
   ]
  },
  {
   "cell_type": "code",
   "execution_count": 4,
   "metadata": {},
   "outputs": [],
   "source": [
    "\n",
    "\n",
    "# Now define a function that propagates the muon inside the tank for its full track lenght, \n",
    "# computing the energy loss at each step from a Landau distribution.\n",
    "# Have the function return the total energy deposited. \n",
    "# This function will be iterated for multiple muons.    \n",
    "\n",
    "def _eloss_tank_landau(start_ek,start_beta,start_gamma,_dx): \n",
    "    tmp_ek = start_ek\n",
    "    tmp_beta = start_beta\n",
    "    tmp_gamma = start_gamma \n",
    "    \n",
    "    _tot_eloss_tank = 0. * u.MeV\n",
    "    nsteps = int(h/_dx) \n",
    "    \n",
    "    for i in range(nsteps): \n",
    "\n",
    "        _eloss =  _eloss_step_landau(tmp_beta,tmp_gamma,_dx)\n",
    "        _tot_eloss_tank += _eloss\n",
    "\n",
    "        # Update particle energy \n",
    "        tmp_ek = tmp_ek - _eloss  \n",
    "        tmp_beta = _beta(ek)\n",
    "        tmp_gamma = _gamma(ek) \n",
    "       \n",
    "\n",
    "    return _tot_eloss_tank"
   ]
  },
  {
   "cell_type": "code",
   "execution_count": 5,
   "metadata": {},
   "outputs": [
    {
     "name": "stdout",
     "output_type": "stream",
     "text": [
      "Launching muon #: 0\n",
      "Launching muon #: 50\n"
     ]
    }
   ],
   "source": [
    "# Choose step size and number of toy muons you want to launch \n",
    "\n",
    "dx = 10 * u.cm #cm \n",
    "\n",
    "# Choose number of toy muons to launch\n",
    " \n",
    "n_iter = 1000\n",
    "eloss_array = np.zeros(n_iter) \n",
    "eloss_array = eloss_array * u.MeV\n",
    "\n",
    "# Initialize muon energy \n",
    "ek = 1000.* u.MeV # 1000 MeV = 1 GeV \n",
    "beta = _beta(ek)\n",
    "gamma = _gamma(ek) \n",
    "\n",
    "for i in range(n_iter): \n",
    "    if(i%50 == 0):print('Launching muon #:',i)\n",
    "    eloss_array[i] = _eloss_tank_landau(ek,beta,gamma,dx) "
   ]
  },
  {
   "cell_type": "code",
   "execution_count": 6,
   "metadata": {},
   "outputs": [
    {
     "data": {
      "image/png": "[encoded data removed]",
      "text/plain": [
       "<Figure size 432x288 with 1 Axes>"
      ]
     },
     "metadata": {
      "needs_background": "light"
     },
     "output_type": "display_data"
    }
   ],
   "source": [
    "# Plot histogram of total energy loss for the toy muons \n",
    "plt.figure(1) \n",
    "#plt.yscale('log')\n",
    "plt.xlabel('Energy loss (MeV)', size=14)\n",
    "plt.ylabel('Entries', size=14)\n",
    "\n",
    "hist = plt.hist(eloss_array.value ,bins = np.linspace(200.,600,60))\n",
    "plt.savefig(outdir+'/toymu_'+str(n_iter)+'_eloss.svg',format = 'svg',bbox_inches='tight')\n"
   ]
  },
  {
   "cell_type": "code",
   "execution_count": null,
   "metadata": {},
   "outputs": [],
   "source": []
  }
 ],
 "metadata": {
  "kernelspec": {
   "display_name": "Python 3",
   "language": "python",
   "name": "python3"
  },
  "language_info": {
   "codemirror_mode": {
    "name": "ipython",
    "version": 3
   },
   "file_extension": ".py",
   "mimetype": "text/x-python",
   "name": "python",
   "nbconvert_exporter": "python",
   "pygments_lexer": "ipython3",
   "version": "3.8.10"
  },
  "orig_nbformat": 4,
  "vscode": {
   "interpreter": {
    "hash": "0c60814a34b1de8e9916497fa254bba583838094421e986a56c7f9e13e41d916"
   }
  }
 },
 "nbformat": 4,
 "nbformat_minor": 2
}
