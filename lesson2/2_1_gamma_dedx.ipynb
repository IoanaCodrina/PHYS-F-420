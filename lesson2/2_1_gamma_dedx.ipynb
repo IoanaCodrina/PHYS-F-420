{
 "cells": [
  {
   "attachments": {},
   "cell_type": "markdown",
   "metadata": {},
   "source": [
    "### Simulate energy deposit of a gamma-ray inside the water cherenkov tank \n",
    "To start, consider pair-production as the only interaction, remember that the energy threshold is two times the electron mass.\\ \n",
    "Use the following assumptions: \n",
    "    * Cross section = 7/9 of radiation length     \n",
    "    * Electron and positrons are produced along same direction as the gamma-ray \n",
    "    * Gamma-ray energy is split in half between electron and positron       \n",
    "    "
   ]
  },
  {
   "cell_type": "code",
   "execution_count": 174,
   "metadata": {},
   "outputs": [],
   "source": [
    "# First of all execute python script to load the defined functions \n",
    "\n",
    "%run functions.py"
   ]
  },
  {
   "cell_type": "code",
   "execution_count": 175,
   "metadata": {},
   "outputs": [],
   "source": [
    "import numpy as np  \n",
    "from astropy import units as u\n",
    "import matplotlib.pyplot as plt\n",
    "import copy\n",
    "\n",
    "# Define gamma-ray energy \n",
    "\n",
    "ek0 = 1000 * u.MeV\n"
   ]
  },
  {
   "cell_type": "code",
   "execution_count": 176,
   "metadata": {},
   "outputs": [],
   "source": [
    "# Look up material properties (water)\n",
    "# https://pdg.lbl.gov/2024/AtomicNuclearProperties/HTML/water_liquid.html  \n",
    "\n",
    "Z_A=0.55509 *u.mol / u.g #mol g^-1, atomic number Z over atomic mass mol g^-1 \n",
    "rho=1 * u.g / u.cm**3 #g cm^-3, density of liquid water \n",
    "I=7.97e-5 * u.MeV #MeV, mean excitation energy\n",
    "\n",
    "K=0.307075 * u.MeV * u.cm **2 / u.mol #MeV mol^−1 cm2\n",
    "Ec = 78.60 * u.MeV\n",
    "X0 = 36.08 * u.cm "
   ]
  },
  {
   "cell_type": "code",
   "execution_count": 177,
   "metadata": {},
   "outputs": [
    {
     "name": "stdout",
     "output_type": "stream",
     "text": [
      "Pair production conversion happens at: 32.269916506811974 cm\n",
      "e- produced with energy:  499.744500525 MeV\n",
      "e+ produced with energy:  499.744500525 MeV\n"
     ]
    }
   ],
   "source": [
    "# Extract point of first interaction \n",
    "\n",
    "int_length = 7./9 * X0\n",
    "\n",
    "ek0_elec = 0. * u.MeV\n",
    "ek0_pos = 0. * u.MeV\n",
    "z_int = 0. * u.cm\n",
    "\n",
    "if(ek0 > 2*me): \n",
    "    z_int = np.random.exponential(int_length.value, size=1)[0] * u.cm  \n",
    "    ek0_elec = ek0_pos = (ek0 - me) /2\n",
    "    print('Pair production conversion happens at:', z_int)\n",
    "    print('e- produced with energy: ',ek0_elec)\n",
    "    print('e+ produced with energy: ',ek0_pos)\n",
    "    \n",
    "else: print('Gamma-ray energy below pair production threshold!\\n ') \n",
    " "
   ]
  },
  {
   "cell_type": "code",
   "execution_count": 178,
   "metadata": {},
   "outputs": [
    {
     "name": "stdout",
     "output_type": "stream",
     "text": [
      "Electron energy below 100 keV, terminate\n",
      "Total energy loss:  1000.1536821180537 MeV\n"
     ]
    }
   ],
   "source": [
    "# Compute energy deposited by produced electron and positron as a function of height inside the tank \n",
    "\n",
    "htank = 120 * u.cm \n",
    "dx = 1 * u.cm \n",
    "nsteps = int((htank-z_int)/dx)\n",
    "d = copy.deepcopy(z_int) # Copying without reference   \n",
    "\n",
    "ek_elec = ek0_elec\n",
    "ek_pos = ek0_pos\n",
    "etot_loss = 0. * u.MeV\n",
    "\n",
    "tot_eloss_elec_array = [] \n",
    "tot_eloss_pos_array = [] \n",
    "tot_eloss_array = [] \n",
    "d_array = []\n",
    "\n",
    "for i_step in range(nsteps): \n",
    "    d += dx \n",
    "    d_array.append(d.value)\n",
    "    \n",
    "    eloss_elec = de_dx_elec_tot(ek_elec, K, Z_A, I, rho, X0) * dx \n",
    "    eloss_pos = de_dx_elec_tot(ek_pos, K, Z_A, I, rho, X0) * dx \n",
    "    \n",
    "    ek_elec = ek_elec - eloss_elec\n",
    "    ek_pos = ek_pos - eloss_pos\n",
    "\n",
    "    etot_loss += (eloss_elec + eloss_pos)\n",
    "\n",
    "    tot_eloss_elec_array.append(eloss_elec.value)\n",
    "    tot_eloss_pos_array.append(eloss_pos.value)\n",
    "    tot_eloss_array.append(eloss_elec.value + eloss_pos.value )\n",
    "    \n",
    "    if(ek_elec.value < 0.1): \n",
    "        print('Electron energy below 100 keV, terminate')\n",
    "        break  \n",
    "    \n",
    "print('Total energy loss: ',etot_loss)\n"
   ]
  },
  {
   "cell_type": "code",
   "execution_count": 179,
   "metadata": {},
   "outputs": [
    {
     "name": "stdout",
     "output_type": "stream",
     "text": [
      "32.269916506811974\n"
     ]
    },
    {
     "data": {
      "text/plain": [
       "Text(33.269916506811974, 4, 'Interaction point')"
      ]
     },
     "execution_count": 179,
     "metadata": {},
     "output_type": "execute_result"
    },
    {
     "data": {
      "image/png": "[encoded data removed]",
      "text/plain": [
       "<Figure size 600x400 with 1 Axes>"
      ]
     },
     "metadata": {
      "needs_background": "light"
     },
     "output_type": "display_data"
    }
   ],
   "source": [
    "plt.figure(dpi=100)\n",
    "\n",
    "plt.plot(d_array,tot_eloss_array)\n",
    "\n",
    "plt.xlabel(' d / cm ', size=14)\n",
    "plt.ylabel(r'E$_{dep}$ / MeV',size=14)\n",
    "\n",
    "print(z_int.value)\n",
    "plt.axvline(z_int.value, linestyle='--', color='red' )\n",
    "plt.text(z_int.value+1,4,'Interaction point',color='red',rotation=90)\n",
    "\n",
    "#plt.yscale('log')\n",
    "\n"
   ]
  },
  {
   "cell_type": "code",
   "execution_count": 180,
   "metadata": {},
   "outputs": [],
   "source": [
    "# Consider 100 gamma-rays with starting energy of 1 GeV, transversing the water tank. \n",
    "# Produce a histogram of the enregy deposited in the first 20 cm of water\n",
    "\n",
    "def gamma_eloss_array(ek, K, Z_A, I, rho, X0, htank, dx):   \n",
    "\n",
    "    ek0_elec = 0. * u.MeV\n",
    "    ek0_pos = 0. * u.MeV\n",
    "    z_int = 0. * u.cm\n",
    "\n",
    "    if(ek0 > 2*me): \n",
    "        z_int = np.random.exponential(int_length.value, size=1)[0] * u.cm  \n",
    "        ek0_elec = ek0_pos = (ek0 - me) /2\n",
    "        #print('Pair production conversion happens at:', z_int)\n",
    "        #print('e- produced with energy: ',ek0_elec)\n",
    "        #print('e+ produced with energy: ',ek0_pos)\n",
    "    \n",
    "    else: print('Gamma-ray energy below pair production threshold!\\n ') \n",
    "\n",
    "    nsteps = int((htank-z_int)/dx)\n",
    "    d = z_int\n",
    "\n",
    "    ek_elec = ek0_elec\n",
    "    ek_pos = ek0_pos\n",
    "    etot_loss = 0. * u.MeV\n",
    "\n",
    "    tot_eloss_elec_array = [] \n",
    "    tot_eloss_pos_array = [] \n",
    "    tot_eloss_array = [] \n",
    "    d_array = []\n",
    "\n",
    "    for i_step in range(nsteps): \n",
    "        d += dx \n",
    "        d_array.append(d.value)\n",
    "    \n",
    "        eloss_elec = de_dx_elec_tot(ek_elec, K, Z_A, I, rho, X0) * dx \n",
    "        eloss_pos = de_dx_elec_tot(ek_pos, K, Z_A, I, rho, X0) * dx \n",
    "    \n",
    "        ek_elec = ek_elec - eloss_elec\n",
    "        ek_pos = ek_pos - eloss_pos\n",
    "\n",
    "        etot_loss += (eloss_elec + eloss_pos)\n",
    "\n",
    "        tot_eloss_elec_array.append(eloss_elec.value)\n",
    "        tot_eloss_pos_array.append(eloss_pos.value)\n",
    "        tot_eloss_array.append(eloss_elec.value + eloss_pos.value )\n",
    "    \n",
    "        if(ek_elec.value < 0.1): \n",
    "            #print('Electron energy below 100 keV, terminate')\n",
    "            break  \n",
    "        \n",
    "    return np.asarray(tot_eloss_array), np.asarray(d_array)\n",
    "    "
   ]
  },
  {
   "cell_type": "code",
   "execution_count": 184,
   "metadata": {},
   "outputs": [],
   "source": [
    "# Launch gamma-ray N times \n",
    "\n",
    "N_gamma = 500\n",
    "ek0_gamma = 1 * u.GeV\n",
    "eloss_40cm = []  \n",
    "\n",
    "\n",
    "for i in range(500):\n",
    "    tot_eloss_array, d_array = gamma_eloss_array(ek0, K, Z_A, I, rho, X0, htank, dx) \n",
    "    d_mask = d_array < 40  \n",
    "    eloss_40cm.append( np.sum(tot_eloss_array[d_mask]) )\n"
   ]
  },
  {
   "cell_type": "code",
   "execution_count": 186,
   "metadata": {},
   "outputs": [
    {
     "data": {
      "image/png": "[encoded data removed]",
      "text/plain": [
       "<Figure size 600x400 with 1 Axes>"
      ]
     },
     "metadata": {
      "needs_background": "light"
     },
     "output_type": "display_data"
    }
   ],
   "source": [
    "plt.figure(dpi=100)\n",
    "\n",
    "plt.xlabel(r'E$_{dep}$ / MeV in first 40 cm', size=14)\n",
    "plt.ylabel('Entries', size=14)\n",
    "h = plt.hist(eloss_40cm, bins=np.linspace(0,1000,25))"
   ]
  },
  {
   "cell_type": "code",
   "execution_count": null,
   "metadata": {},
   "outputs": [],
   "source": []
  }
 ],
 "metadata": {
  "kernelspec": {
   "display_name": "Python 3",
   "language": "python",
   "name": "python3"
  },
  "language_info": {
   "codemirror_mode": {
    "name": "ipython",
    "version": 3
   },
   "file_extension": ".py",
   "mimetype": "text/x-python",
   "name": "python",
   "nbconvert_exporter": "python",
   "pygments_lexer": "ipython3",
   "version": "3.8.10"
  },
  "orig_nbformat": 4,
  "vscode": {
   "interpreter": {
    "hash": "31f2aee4e71d21fbe5cf8b01ff0e069b9275f58929596ceb00d14d90e3e16cd6"
   }
  }
 },
 "nbformat": 4,
 "nbformat_minor": 2
}
