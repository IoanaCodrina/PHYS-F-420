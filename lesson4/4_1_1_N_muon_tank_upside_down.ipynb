{
 "cells": [
  {
   "attachments": {},
   "cell_type": "markdown",
   "metadata": {},
   "source": [
    "### Generate N muons on top of the tank with a cos^2 theta uniform distribution. Compute the energy deposited in the tank as a function of the tank depth   "
   ]
  },
  {
   "cell_type": "code",
   "execution_count": 1,
   "metadata": {},
   "outputs": [],
   "source": [
    "import numpy as np \n",
    "from astropy import units as u \n",
    "import matplotlib.pyplot as plt\n",
    "import matplotlib as mpl\n",
    "%run functions.py "
   ]
  },
  {
   "cell_type": "code",
   "execution_count": 2,
   "metadata": {},
   "outputs": [],
   "source": [
    "# Water properties\n",
    "Z_A=0.55509 *u.mol / u.g #mol g^-1, atomic number Z over atomic mass mol g^-1 \n",
    "rho=1 * u.g / u.cm**3 #g cm^-3, density of liquid water \n",
    "I=7.97e-5 * u.MeV #MeV, mean excitation energy\n",
    "\n",
    "K=0.307075 * u.MeV * u.cm **2 / u.mol #MeV mol^−1 cm2\n"
   ]
  },
  {
   "cell_type": "code",
   "execution_count": 33,
   "metadata": {},
   "outputs": [],
   "source": [
    "N_event = 1000 # Choose number of particles \n",
    "\n",
    "# Tank dimentions \n",
    "R_tank = 180 * u.cm \n",
    "H_tank = 120 * u.cm\n",
    "\n",
    "# Gen. surface radius \n",
    "R_gen = 180 * u.cm \n",
    " \n",
    "# Extract starting position randomly from a circle corresponding to the top of the tank\n",
    "\n",
    "def rnd_tank_start(R_gen, N_event): \n",
    "    #r = R_gen * np.sqrt(np.random.uniform(0,1,size=N_event))\n",
    "    r = R_gen * (np.random.uniform(0,1,size=N_event))\n",
    "    alpha = np.random.uniform(0,2*np.pi, size=N_event) \n",
    "    x0 = r * np.cos(alpha)   \n",
    "    y0 = r * np.sin(alpha)  \n",
    "    z0 = np.full(N_event,0) * u.cm\n",
    "    return x0, y0, z0   \n",
    "\n",
    "# Extract starting direction \n",
    "\n",
    "def rnd_direction(N_event):\n",
    "    phi = np.random.uniform(0,2*np.pi, size=N_event)\n",
    "    cos_theta_squared = np.random.uniform(0,1, size=N_event)\n",
    "    theta = np.arccos(np.sqrt(cos_theta_squared)) \n",
    "    #theta = np.full(N_event,0)\n",
    "    return theta, phi"
   ]
  },
  {
   "cell_type": "code",
   "execution_count": 34,
   "metadata": {},
   "outputs": [],
   "source": [
    "# Track muons inside the tank, considering energy loss and Cherenkov produciton \n",
    "\n",
    "muon_theta, muon_phi = rnd_direction(N_event)\n",
    "x0,y0,z0 = rnd_tank_start(R_gen, N_event)  \n",
    "      "
   ]
  },
  {
   "cell_type": "code",
   "execution_count": 35,
   "metadata": {},
   "outputs": [
    {
     "data": {
      "image/png": "[encoded data removed]",
      "text/plain": [
       "<Figure size 432x288 with 1 Axes>"
      ]
     },
     "metadata": {
      "needs_background": "light"
     },
     "output_type": "display_data"
    }
   ],
   "source": [
    "theta_hist = plt.hist(muon_theta*180/np.pi)"
   ]
  },
  {
   "cell_type": "code",
   "execution_count": 30,
   "metadata": {},
   "outputs": [],
   "source": [
    "coor_muon = [] \n",
    "r_photon = []\n",
    "z_photon = []\n",
    "nph_muon = []\n",
    "\n",
    "for i in range(N_event) :\n",
    "    muon_pos = Vector(x0[i],y0[i],z0[i],muon_theta[i],muon_phi[i]) \n",
    "    step_size = 1. * u.cm\n",
    "    \n",
    "    ek_mu = 1 * u.GeV\n",
    "    beta_mu = _beta(ek_mu,m0)    \n",
    "    gamma_mu = _gamma(ek_mu,m0)    \n",
    "    Wmax_mu = _Wmax(ek_mu,m0)    \n",
    "\n",
    "    while (muon_pos.in_tank()):\n",
    "        coor_muon.append([muon_pos.x,muon_pos.y,muon_pos.z])\n",
    "        \n",
    "        eloss1 = de_dx_muon(beta_mu,gamma_mu,Wmax_mu,K, Z_A, I, rho ) * step_size\n",
    "        ek_mu = ek_mu - eloss1 \n",
    "        \n",
    "        beta_mu = _beta(ek_mu,m0)    \n",
    "        gamma_mu = _gamma(ek_mu,m0)    \n",
    "        Wmax_mu = _Wmax(ek_mu,m0)    \n",
    "    \n",
    "        lam_array, n_ch_mean = cherenkov_photons_array(beta_mu,step_size) \n",
    "        n_ch = np.random.poisson(n_ch_mean)\n",
    "        ch_r, ch_z = muon_pos.rnd_ch_photon_pos(np.sum(n_ch))\n",
    "        r_photon.extend(ch_r)\n",
    "        z_photon.extend(ch_z)\n",
    "                        \n",
    "        muon_pos.update_pos(step_size) \n",
    "\n",
    "\n",
    "        \n",
    "#coor_array = np.asarray(coor_muon)"
   ]
  },
  {
   "cell_type": "code",
   "execution_count": 31,
   "metadata": {},
   "outputs": [
    {
     "data": {
      "text/plain": [
       "<matplotlib.colorbar.Colorbar at 0x7f6cb0257f70>"
      ]
     },
     "execution_count": 31,
     "metadata": {},
     "output_type": "execute_result"
    },
    {
     "data": {
      "image/png": "[encoded data removed]",
      "text/plain": [
       "<Figure size 432x288 with 2 Axes>"
      ]
     },
     "metadata": {
      "needs_background": "light"
     },
     "output_type": "display_data"
    }
   ],
   "source": [
    "r_bins = np.arange(0,180,5)\n",
    "z_bins = np.arange(0,120,5)\n",
    "hist2d = plt.hist2d(r_photon, z_photon, bins=[r_bins,z_bins], norm=mpl.colors.LogNorm(vmin=1), cmap = plt.cm.coolwarm)\n",
    "#hist2d = plt.hist2d(r_photon, z_photon, bins=[r_bins,z_bins], cmap = plt.cm.coolwarm, vmin=1)\n",
    "plt.colorbar()\n"
   ]
  },
  {
   "cell_type": "code",
   "execution_count": 32,
   "metadata": {},
   "outputs": [],
   "source": [
    "# Save data in a h5 file \n",
    "import h5py\n",
    "\n",
    "hf = h5py.File('./output/muon_cherenkov_'+str(N_event)+'_vertical.h5','w')\n",
    "hf.create_dataset('Radius', data=r_photon)\n",
    "hf.create_dataset('Z', data=z_photon)\n",
    "hf.close()"
   ]
  },
  {
   "cell_type": "code",
   "execution_count": 79,
   "metadata": {},
   "outputs": [
    {
     "name": "stdout",
     "output_type": "stream",
     "text": [
      "[2.7841046944010802e-05, 0.4239003259253175, 0.1665337239612759, 0.36216217064376566, 0.04533685609386742, 0.5674977011660669, 0.32341667022032816, 0.13763252712203006, 0.3912980860624295, 0.6039473015985436]\n"
     ]
    }
   ],
   "source": [
    "print((_photon[0:10]))"
   ]
  },
  {
   "cell_type": "code",
   "execution_count": null,
   "metadata": {},
   "outputs": [],
   "source": []
  }
 ],
 "metadata": {
  "kernelspec": {
   "display_name": "Python 3",
   "language": "python",
   "name": "python3"
  },
  "language_info": {
   "codemirror_mode": {
    "name": "ipython",
    "version": 3
   },
   "file_extension": ".py",
   "mimetype": "text/x-python",
   "name": "python",
   "nbconvert_exporter": "python",
   "pygments_lexer": "ipython3",
   "version": "3.8.10"
  },
  "orig_nbformat": 4
 },
 "nbformat": 4,
 "nbformat_minor": 2
}
